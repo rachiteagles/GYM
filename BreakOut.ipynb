{
  "nbformat": 4,
  "nbformat_minor": 0,
  "metadata": {
    "accelerator": "GPU",
    "colab": {
      "name": "MountainCar.ipynb",
      "provenance": [],
      "collapsed_sections": []
    },
    "kernelspec": {
      "display_name": "Python 3",
      "name": "python3"
    }
  },
  "cells": [
    {
      "cell_type": "code",
      "metadata": {
        "colab": {
          "base_uri": "https://localhost:8080/"
        },
        "id": "LhdeS0427sAB",
        "outputId": "70b68047-4bb6-4d43-e53f-db5918204b10"
      },
      "source": [
        "!pip install wandb"
      ],
      "execution_count": null,
      "outputs": [
        {
          "output_type": "stream",
          "text": [
            "Requirement already satisfied: wandb in /usr/local/lib/python3.6/dist-packages (0.10.18)\n",
            "Requirement already satisfied: promise<3,>=2.0 in /usr/local/lib/python3.6/dist-packages (from wandb) (2.3)\n",
            "Requirement already satisfied: subprocess32>=3.5.3 in /usr/local/lib/python3.6/dist-packages (from wandb) (3.5.4)\n",
            "Requirement already satisfied: six>=1.13.0 in /usr/local/lib/python3.6/dist-packages (from wandb) (1.15.0)\n",
            "Requirement already satisfied: shortuuid>=0.5.0 in /usr/local/lib/python3.6/dist-packages (from wandb) (1.0.1)\n",
            "Requirement already satisfied: sentry-sdk>=0.4.0 in /usr/local/lib/python3.6/dist-packages (from wandb) (0.19.5)\n",
            "Requirement already satisfied: pathtools in /usr/local/lib/python3.6/dist-packages (from wandb) (0.1.2)\n",
            "Requirement already satisfied: python-dateutil>=2.6.1 in /usr/local/lib/python3.6/dist-packages (from wandb) (2.8.1)\n",
            "Requirement already satisfied: PyYAML in /usr/local/lib/python3.6/dist-packages (from wandb) (3.13)\n",
            "Requirement already satisfied: Click>=7.0 in /usr/local/lib/python3.6/dist-packages (from wandb) (7.1.2)\n",
            "Requirement already satisfied: docker-pycreds>=0.4.0 in /usr/local/lib/python3.6/dist-packages (from wandb) (0.4.0)\n",
            "Requirement already satisfied: protobuf>=3.12.0 in /usr/local/lib/python3.6/dist-packages (from wandb) (3.12.4)\n",
            "Requirement already satisfied: GitPython>=1.0.0 in /usr/local/lib/python3.6/dist-packages (from wandb) (3.1.13)\n",
            "Requirement already satisfied: configparser>=3.8.1 in /usr/local/lib/python3.6/dist-packages (from wandb) (5.0.1)\n",
            "Requirement already satisfied: psutil>=5.0.0 in /usr/local/lib/python3.6/dist-packages (from wandb) (5.4.8)\n",
            "Requirement already satisfied: requests<3,>=2.0.0 in /usr/local/lib/python3.6/dist-packages (from wandb) (2.23.0)\n",
            "Requirement already satisfied: urllib3>=1.10.0 in /usr/local/lib/python3.6/dist-packages (from sentry-sdk>=0.4.0->wandb) (1.24.3)\n",
            "Requirement already satisfied: certifi in /usr/local/lib/python3.6/dist-packages (from sentry-sdk>=0.4.0->wandb) (2020.12.5)\n",
            "Requirement already satisfied: setuptools in /usr/local/lib/python3.6/dist-packages (from protobuf>=3.12.0->wandb) (53.0.0)\n",
            "Requirement already satisfied: gitdb<5,>=4.0.1 in /usr/local/lib/python3.6/dist-packages (from GitPython>=1.0.0->wandb) (4.0.5)\n",
            "Requirement already satisfied: chardet<4,>=3.0.2 in /usr/local/lib/python3.6/dist-packages (from requests<3,>=2.0.0->wandb) (3.0.4)\n",
            "Requirement already satisfied: idna<3,>=2.5 in /usr/local/lib/python3.6/dist-packages (from requests<3,>=2.0.0->wandb) (2.10)\n",
            "Requirement already satisfied: smmap<4,>=3.0.1 in /usr/local/lib/python3.6/dist-packages (from gitdb<5,>=4.0.1->GitPython>=1.0.0->wandb) (3.0.5)\n"
          ],
          "name": "stdout"
        }
      ]
    },
    {
      "cell_type": "code",
      "metadata": {
        "colab": {
          "background_save": true,
          "base_uri": "https://localhost:8080/",
          "height": 319
        },
        "id": "KOLkIHx47vKN",
        "outputId": "0543d7fd-6db1-4b54-bf1f-6d4fd8e19a3a"
      },
      "source": [
        "import gym\r\n",
        "import numpy as np\r\n",
        "import cv2\r\n",
        "from random import randint\r\n",
        "import random\r\n",
        "import torch\r\n",
        "import torch.nn as nn\r\n",
        "import torch.nn.functional as f\r\n",
        "import wandb\r\n",
        "from tqdm import tqdm\r\n",
        "import torch.optim as optim\r\n",
        "from collections import deque\r\n",
        "\r\n",
        "\r\n",
        "if torch.cuda.is_available():\r\n",
        "    device = torch.device('cuda:0')\r\n",
        "else:\r\n",
        "    device = torch.device('cpu')\r\n",
        "    \r\n",
        "    \r\n",
        "class ConvModel(nn.Module):\r\n",
        "    def __init__(self,obs_shape,num_action):\r\n",
        "        super(ConvModel,self).__init__()\r\n",
        "        self.obs_shape=obs_shape\r\n",
        "        self.num_action=num_action\r\n",
        "        self.cv1=torch.nn.Conv2d(4,16,(8,8),stride=(4,4))\r\n",
        "        self.cv2=torch.nn.Conv2d(16,32,(4,4),stride=(2,2))\r\n",
        "        self.fc1=torch.nn.Linear(32*9*9,256)\r\n",
        "        self.fc2=torch.nn.Linear(256,num_action)\r\n",
        " \r\n",
        "        \r\n",
        "    def forward(self,inpt):\r\n",
        "        inpt=self.cv1(inpt)\r\n",
        "        inpt=self.cv2(f.relu(inpt))\r\n",
        "        inpt=inpt.view(-1,32*9*9)\r\n",
        "        inpt=self.fc1(inpt)\r\n",
        "        inpt=self.fc2(f.relu(inpt))\r\n",
        "        \r\n",
        "        \r\n",
        "        return inpt\r\n",
        "    \r\n",
        "class FrameStacker():\r\n",
        "    def __init__(self,env,w,h,num_stack=4):\r\n",
        "        self.env=env\r\n",
        "        self.n=num_stack\r\n",
        "        self.w=w\r\n",
        "        self.h=h\r\n",
        "        self.observation_space=np.zeros((self.n,self.h,self.w))\r\n",
        "        self.action_space=self.env.action_space\r\n",
        "        self.frame=None\r\n",
        "        self.buffer=np.zeros((num_stack,h,w),'uint8')\r\n",
        "        \r\n",
        "    def preprocess_frame(self,frame):\r\n",
        "        self.frame=frame[30:195,10:152]\r\n",
        "        self.frame=cv2.resize(self.frame,(self.w,self.h))\r\n",
        "        self.frame=cv2.cvtColor(self.frame,cv2.COLOR_RGB2GRAY)\r\n",
        "        return self.frame\r\n",
        "    \r\n",
        "    def render(self):\r\n",
        "        return self.env.render()\r\n",
        "    \r\n",
        "    def render_processed(self):\r\n",
        "        cv2.imshow('processed',self.frame)\r\n",
        "        cv2.waitKey(0)\r\n",
        "        \r\n",
        "    def destroyWindows(self):\r\n",
        "        cv2.destroyAllWindows()\r\n",
        "    \r\n",
        "    def close(self):\r\n",
        "        return self.env.close()\r\n",
        "    \r\n",
        "    \r\n",
        "    def step(self,action):\r\n",
        "        im,reward,done,info = self.env.step(action)\r\n",
        "        im = self.preprocess_frame(im)\r\n",
        "        self.buffer[1:self.n]=self.buffer[0:self.n-1]\r\n",
        "        self.buffer[0]=im\r\n",
        "        return self.buffer.copy(),reward,done,info\r\n",
        "    \r\n",
        "    def reset(self):\r\n",
        "        im = self.env.reset()\r\n",
        "        im = self.preprocess_frame(im)\r\n",
        "        self.buffer=np.stack([im]*self.n)\r\n",
        "        return self.buffer.copy()\r\n",
        "                    \r\n",
        "class ReplayBuffer:\r\n",
        "    def __init__(self, buffer_size=1000000):\r\n",
        "        self.buffer_size = buffer_size\r\n",
        "        self.buffer = [None]*buffer_size\r\n",
        "        self.idx=0\r\n",
        "        \r\n",
        "    def insert(self,sars):\r\n",
        "        self.buffer[self.idx%self.buffer_size]=sars\r\n",
        "        self.idx+=1\r\n",
        "#         self.buffer = self.buffer[-self.buffer_size:]\r\n",
        "        \r\n",
        "    def sample(self,num_samples):\r\n",
        "        if self.idx < self.buffer_size:\r\n",
        "            return random.sample(self.buffer[:self.idx],num_samples)\r\n",
        "        return random.sample(self.buffer,num_samples)\r\n",
        "    \r\n",
        "def update_tgt_model(m,tgt):\r\n",
        "    tgt.load_state_dict(m.state_dict())\r\n",
        "\r\n",
        "    \r\n",
        "def train_step(model,state_trans,tgt,loss_fn,lr=0.0001):\r\n",
        "    cur_states=[]\r\n",
        "    actions=[]\r\n",
        "    rewards=[]\r\n",
        "    next_states=[]\r\n",
        "    masks=[]\r\n",
        "    for state in state_trans:\r\n",
        "        \r\n",
        "        cur_states.append(torch.tensor(state[0],dtype=torch.float32))\r\n",
        "        actions.append(state[1])\r\n",
        "        rewards.append(torch.tensor(state[2]))\r\n",
        "        next_states.append(torch.tensor(state[3],dtype=torch.float32))\r\n",
        "        masks.append(torch.tensor(0 if state[4] else 1))\r\n",
        "        \r\n",
        "    cur_states = torch.stack(cur_states).to(device)\r\n",
        "    rewards = torch.stack(rewards).to(device)\r\n",
        "    next_states = torch.stack(next_states).to(device)\r\n",
        "    masks = torch.stack(masks).to(device)\r\n",
        "    with torch.no_grad():\r\n",
        "        qvals_next = tgt(next_states.view(-1,4,84,84)).max(-1)[0]\r\n",
        "    \r\n",
        "    opt = optim.Adam(model.parameters(),lr=lr)\r\n",
        "    opt.zero_grad()\r\n",
        "    qvals = model(cur_states.view(-1,4,84,84))\r\n",
        "    one_hot_actions = f.one_hot(torch.tensor(actions),4).to(device)\r\n",
        "        \r\n",
        "#     act_qval=torch.stack([qvals[i][actions[i]] for i in range(len(actions))]).to(device)\r\n",
        "    act_qval=torch.sum(qvals*one_hot_actions,-1)\r\n",
        "    \r\n",
        "    \r\n",
        "    loss = loss_fn((rewards + 0.99*masks*qvals_next),act_qval)\r\n",
        "    loss.backward()\r\n",
        "    opt.step()\r\n",
        "    return loss\r\n",
        "\r\n",
        "    \r\n",
        "wandb.init(project=\"dqn\",name=\"breakout\")\r\n",
        "\r\n",
        "loss_fn = torch.nn.SmoothL1Loss()\r\n",
        "\r\n",
        "min_rb_size=200000\r\n",
        "sample_size=32\r\n",
        "eps=1.0\r\n",
        "eps_min=0.1\r\n",
        "\r\n",
        "eps_decay=0.9999999\r\n",
        "\r\n",
        "env_steps_before_train = 10\r\n",
        "tgt_model_update = 1500\r\n",
        "        \r\n",
        "env = gym.make('Breakout-v0')\r\n",
        "env = FrameStacker(env,84,84)\r\n",
        "\r\n",
        "last_obs=env.reset()\r\n",
        "\r\n",
        "# lr_max=0.001\r\n",
        "# lr_decay=0.00000000099\r\n",
        "# lr_min=0.00001\r\n",
        "# lr_count = 0\r\n",
        "# lr_count_max=1000000\r\n",
        "# lr = lr_max\r\n",
        "lr=0.0001\r\n",
        "m=ConvModel(env.observation_space.shape,env.action_space.n).to(device)\r\n",
        "tgt=ConvModel(env.observation_space.shape,env.action_space.n).to(device)\r\n",
        "\r\n",
        "rb=ReplayBuffer()\r\n",
        "steps_since_train=0\r\n",
        "epochs_since_tgt=0\r\n",
        "step_num=-1*min_rb_size\r\n",
        "episode_reward=[]\r\n",
        "rolling_reward=0\r\n",
        "# qvals = m(torch.Tensor(observation))\r\n",
        "tq=tqdm()\r\n",
        "\r\n",
        "try:\r\n",
        "    while eps>eps_min:\r\n",
        "        tq.update(1)\r\n",
        "        eps=eps_decay**step_num\r\n",
        "        # lr_count+=1\r\n",
        "\r\n",
        "        # if lr_count > lr_count_max:\r\n",
        "        #     lr_count = 0\r\n",
        "        # lr = lr_max-(lr_decay*lr_count)\r\n",
        "        \r\n",
        "        ##boltzman exploration\r\n",
        "        logits=m(torch.tensor(last_obs,dtype=torch.float32).view(-1,4,84,84).to(device))[0]\r\n",
        "        action = torch.distributions.Categorical(logits=logits).sample().item()\r\n",
        "        \r\n",
        "        ##epsillon greedy\r\n",
        "#         if random.random() < eps:\r\n",
        "#             action = env.action_space.sample()\r\n",
        "#         else:\r\n",
        "#             action = int(torch.argmax(m(torch.tensor(last_obs,dtype=torch.float32).view(-1,4,84,84).to(device))))\r\n",
        "            \r\n",
        "        obs,rew,done,info=env.step(action)\r\n",
        "        rolling_reward+=rew\r\n",
        "        rew=rew*100\r\n",
        "        rb.insert((last_obs,action,rew,obs,done))\r\n",
        "        last_obs = obs\r\n",
        "        if done:\r\n",
        "            episode_reward.append(rolling_reward)\r\n",
        "            rolling_reward=0\r\n",
        "            obs = env.reset()\r\n",
        "        \r\n",
        "        steps_since_train += 1\r\n",
        "        step_num+=1\r\n",
        "        \r\n",
        "        if (rb.idx) > min_rb_size and steps_since_train>env_steps_before_train:\r\n",
        "            \r\n",
        "            epochs_since_tgt+=1\r\n",
        "            loss=train_step(m,rb.sample(sample_size),tgt,loss_fn,lr)\r\n",
        "            \r\n",
        "            wandb.log({'loss':loss,'eps':eps,'avg_rew':np.mean(episode_reward)},step=step_num)\r\n",
        "#             print(step_num,loss)\r\n",
        "            episode_reward=[]\r\n",
        "            if epochs_since_tgt > tgt_model_update:\r\n",
        "                print('updating tgt model')\r\n",
        "                update_tgt_model(m,tgt)\r\n",
        "                epochs_since_tgt=0\r\n",
        "                torch.save(tgt.state_dict(),f\"models/{step_num}.pth\")\r\n",
        "            steps_since_train=0\r\n",
        "            \r\n",
        "except KeyboardInterrupt:\r\n",
        "    pass\r\n",
        "        \r\n",
        "env.close()\r\n",
        "        "
      ],
      "execution_count": null,
      "outputs": [
        {
          "output_type": "stream",
          "text": [
            "\u001b[34m\u001b[1mwandb\u001b[0m: Currently logged in as: \u001b[33mrachiteagles\u001b[0m (use `wandb login --relogin` to force relogin)\n"
          ],
          "name": "stderr"
        },
        {
          "output_type": "display_data",
          "data": {
            "text/html": [
              "\n",
              "                Tracking run with wandb version 0.10.18<br/>\n",
              "                Syncing run <strong style=\"color:#cdcd00\">breakout</strong> to <a href=\"https://wandb.ai\" target=\"_blank\">Weights & Biases</a> <a href=\"https://docs.wandb.com/integrations/jupyter.html\" target=\"_blank\">(Documentation)</a>.<br/>\n",
              "                Project page: <a href=\"https://wandb.ai/rachiteagles/dqn\" target=\"_blank\">https://wandb.ai/rachiteagles/dqn</a><br/>\n",
              "                Run page: <a href=\"https://wandb.ai/rachiteagles/dqn/runs/2595i3h9\" target=\"_blank\">https://wandb.ai/rachiteagles/dqn/runs/2595i3h9</a><br/>\n",
              "                Run data is saved locally in <code>/content/wandb/run-20210210_174201-2595i3h9</code><br/><br/>\n",
              "            "
            ],
            "text/plain": [
              "<IPython.core.display.HTML object>"
            ]
          },
          "metadata": {
            "tags": []
          }
        },
        {
          "output_type": "stream",
          "text": [
            "199987it [05:25, 588.73it/s]/usr/local/lib/python3.6/dist-packages/numpy/core/fromnumeric.py:3373: RuntimeWarning: Mean of empty slice.\n",
            "  out=out, **kwargs)\n",
            "/usr/local/lib/python3.6/dist-packages/numpy/core/_methods.py:170: RuntimeWarning: invalid value encountered in double_scalars\n",
            "  ret = ret.dtype.type(ret / rcount)\n",
            "216554it [06:13, 318.28it/s]"
          ],
          "name": "stderr"
        },
        {
          "output_type": "stream",
          "text": [
            "updating tgt model\n"
          ],
          "name": "stdout"
        },
        {
          "output_type": "stream",
          "text": [
            "233046it [07:00, 322.69it/s]"
          ],
          "name": "stderr"
        },
        {
          "output_type": "stream",
          "text": [
            "updating tgt model\n"
          ],
          "name": "stdout"
        },
        {
          "output_type": "stream",
          "text": [
            "249573it [07:48, 342.99it/s]"
          ],
          "name": "stderr"
        },
        {
          "output_type": "stream",
          "text": [
            "updating tgt model\n"
          ],
          "name": "stdout"
        },
        {
          "output_type": "stream",
          "text": [
            "266100it [08:37, 324.08it/s]"
          ],
          "name": "stderr"
        },
        {
          "output_type": "stream",
          "text": [
            "updating tgt model\n"
          ],
          "name": "stdout"
        },
        {
          "output_type": "stream",
          "text": [
            "282595it [09:27, 325.91it/s]"
          ],
          "name": "stderr"
        },
        {
          "output_type": "stream",
          "text": [
            "updating tgt model\n"
          ],
          "name": "stdout"
        },
        {
          "output_type": "stream",
          "text": [
            "299105it [10:18, 312.26it/s]"
          ],
          "name": "stderr"
        },
        {
          "output_type": "stream",
          "text": [
            "updating tgt model\n"
          ],
          "name": "stdout"
        },
        {
          "output_type": "stream",
          "text": [
            "304721it [29:08,  8.86s/it]"
          ],
          "name": "stderr"
        },
        {
          "output_type": "error",
          "ename": "Exception",
          "evalue": "ignored",
          "traceback": [
            "\u001b[0;31m---------------------------------------------------------------------------\u001b[0m",
            "\u001b[0;31mException\u001b[0m                                 Traceback (most recent call last)",
            "\u001b[0;32m<ipython-input-2-ae8bc9b92297>\u001b[0m in \u001b[0;36m<module>\u001b[0;34m()\u001b[0m\n\u001b[1;32m    216\u001b[0m             \u001b[0mloss\u001b[0m\u001b[0;34m=\u001b[0m\u001b[0mtrain_step\u001b[0m\u001b[0;34m(\u001b[0m\u001b[0mm\u001b[0m\u001b[0;34m,\u001b[0m\u001b[0mrb\u001b[0m\u001b[0;34m.\u001b[0m\u001b[0msample\u001b[0m\u001b[0;34m(\u001b[0m\u001b[0msample_size\u001b[0m\u001b[0;34m)\u001b[0m\u001b[0;34m,\u001b[0m\u001b[0mtgt\u001b[0m\u001b[0;34m,\u001b[0m\u001b[0mloss_fn\u001b[0m\u001b[0;34m,\u001b[0m\u001b[0mlr\u001b[0m\u001b[0;34m)\u001b[0m\u001b[0;34m\u001b[0m\u001b[0;34m\u001b[0m\u001b[0m\n\u001b[1;32m    217\u001b[0m \u001b[0;34m\u001b[0m\u001b[0m\n\u001b[0;32m--> 218\u001b[0;31m             \u001b[0mwandb\u001b[0m\u001b[0;34m.\u001b[0m\u001b[0mlog\u001b[0m\u001b[0;34m(\u001b[0m\u001b[0;34m{\u001b[0m\u001b[0;34m'loss'\u001b[0m\u001b[0;34m:\u001b[0m\u001b[0mloss\u001b[0m\u001b[0;34m,\u001b[0m\u001b[0;34m'eps'\u001b[0m\u001b[0;34m:\u001b[0m\u001b[0meps\u001b[0m\u001b[0;34m,\u001b[0m\u001b[0;34m'avg_rew'\u001b[0m\u001b[0;34m:\u001b[0m\u001b[0mnp\u001b[0m\u001b[0;34m.\u001b[0m\u001b[0mmean\u001b[0m\u001b[0;34m(\u001b[0m\u001b[0mepisode_reward\u001b[0m\u001b[0;34m)\u001b[0m\u001b[0;34m}\u001b[0m\u001b[0;34m,\u001b[0m\u001b[0mstep\u001b[0m\u001b[0;34m=\u001b[0m\u001b[0mstep_num\u001b[0m\u001b[0;34m)\u001b[0m\u001b[0;34m\u001b[0m\u001b[0;34m\u001b[0m\u001b[0m\n\u001b[0m\u001b[1;32m    219\u001b[0m \u001b[0;31m#             print(step_num,loss)\u001b[0m\u001b[0;34m\u001b[0m\u001b[0;34m\u001b[0m\u001b[0;34m\u001b[0m\u001b[0m\n\u001b[1;32m    220\u001b[0m             \u001b[0mepisode_reward\u001b[0m\u001b[0;34m=\u001b[0m\u001b[0;34m[\u001b[0m\u001b[0;34m]\u001b[0m\u001b[0;34m\u001b[0m\u001b[0;34m\u001b[0m\u001b[0m\n",
            "\u001b[0;32m/usr/local/lib/python3.6/dist-packages/wandb/sdk/wandb_run.py\u001b[0m in \u001b[0;36mlog\u001b[0;34m(self, data, step, commit, sync)\u001b[0m\n\u001b[1;32m    949\u001b[0m                 \u001b[0;32mreturn\u001b[0m\u001b[0;34m\u001b[0m\u001b[0;34m\u001b[0m\u001b[0m\n\u001b[1;32m    950\u001b[0m             \u001b[0;32melif\u001b[0m \u001b[0mstep\u001b[0m \u001b[0;34m>\u001b[0m \u001b[0mself\u001b[0m\u001b[0;34m.\u001b[0m\u001b[0mhistory\u001b[0m\u001b[0;34m.\u001b[0m\u001b[0m_step\u001b[0m\u001b[0;34m:\u001b[0m\u001b[0;34m\u001b[0m\u001b[0;34m\u001b[0m\u001b[0m\n\u001b[0;32m--> 951\u001b[0;31m                 \u001b[0mself\u001b[0m\u001b[0;34m.\u001b[0m\u001b[0mhistory\u001b[0m\u001b[0;34m.\u001b[0m\u001b[0m_flush\u001b[0m\u001b[0;34m(\u001b[0m\u001b[0;34m)\u001b[0m\u001b[0;34m\u001b[0m\u001b[0;34m\u001b[0m\u001b[0m\n\u001b[0m\u001b[1;32m    952\u001b[0m                 \u001b[0mself\u001b[0m\u001b[0;34m.\u001b[0m\u001b[0mhistory\u001b[0m\u001b[0;34m.\u001b[0m\u001b[0m_step\u001b[0m \u001b[0;34m=\u001b[0m \u001b[0mstep\u001b[0m\u001b[0;34m\u001b[0m\u001b[0;34m\u001b[0m\u001b[0m\n\u001b[1;32m    953\u001b[0m         \u001b[0;32melif\u001b[0m \u001b[0mcommit\u001b[0m \u001b[0;32mis\u001b[0m \u001b[0;32mNone\u001b[0m\u001b[0;34m:\u001b[0m\u001b[0;34m\u001b[0m\u001b[0;34m\u001b[0m\u001b[0m\n",
            "\u001b[0;32m/usr/local/lib/python3.6/dist-packages/wandb/sdk/wandb_history.py\u001b[0m in \u001b[0;36m_flush\u001b[0;34m(self)\u001b[0m\n\u001b[1;32m     57\u001b[0m             \u001b[0mself\u001b[0m\u001b[0;34m.\u001b[0m\u001b[0m_data\u001b[0m\u001b[0;34m[\u001b[0m\u001b[0;34m\"_timestamp\"\u001b[0m\u001b[0;34m]\u001b[0m \u001b[0;34m=\u001b[0m \u001b[0mint\u001b[0m\u001b[0;34m(\u001b[0m\u001b[0mself\u001b[0m\u001b[0;34m.\u001b[0m\u001b[0m_data\u001b[0m\u001b[0;34m.\u001b[0m\u001b[0mget\u001b[0m\u001b[0;34m(\u001b[0m\u001b[0;34m\"_timestamp\"\u001b[0m\u001b[0;34m,\u001b[0m \u001b[0mtime\u001b[0m\u001b[0;34m.\u001b[0m\u001b[0mtime\u001b[0m\u001b[0;34m(\u001b[0m\u001b[0;34m)\u001b[0m\u001b[0;34m)\u001b[0m\u001b[0;34m)\u001b[0m\u001b[0;34m\u001b[0m\u001b[0;34m\u001b[0m\u001b[0m\n\u001b[1;32m     58\u001b[0m             \u001b[0;32mif\u001b[0m \u001b[0mself\u001b[0m\u001b[0;34m.\u001b[0m\u001b[0m_callback\u001b[0m\u001b[0;34m:\u001b[0m\u001b[0;34m\u001b[0m\u001b[0;34m\u001b[0m\u001b[0m\n\u001b[0;32m---> 59\u001b[0;31m                 \u001b[0mself\u001b[0m\u001b[0;34m.\u001b[0m\u001b[0m_callback\u001b[0m\u001b[0;34m(\u001b[0m\u001b[0mrow\u001b[0m\u001b[0;34m=\u001b[0m\u001b[0mself\u001b[0m\u001b[0;34m.\u001b[0m\u001b[0m_data\u001b[0m\u001b[0;34m,\u001b[0m \u001b[0mstep\u001b[0m\u001b[0;34m=\u001b[0m\u001b[0mself\u001b[0m\u001b[0;34m.\u001b[0m\u001b[0m_step\u001b[0m\u001b[0;34m)\u001b[0m\u001b[0;34m\u001b[0m\u001b[0;34m\u001b[0m\u001b[0m\n\u001b[0m\u001b[1;32m     60\u001b[0m             \u001b[0mself\u001b[0m\u001b[0;34m.\u001b[0m\u001b[0m_data\u001b[0m \u001b[0;34m=\u001b[0m \u001b[0mdict\u001b[0m\u001b[0;34m(\u001b[0m\u001b[0;34m)\u001b[0m\u001b[0;34m\u001b[0m\u001b[0;34m\u001b[0m\u001b[0m\n\u001b[1;32m     61\u001b[0m \u001b[0;34m\u001b[0m\u001b[0m\n",
            "\u001b[0;32m/usr/local/lib/python3.6/dist-packages/wandb/sdk/wandb_run.py\u001b[0m in \u001b[0;36m_history_callback\u001b[0;34m(self, row, step)\u001b[0m\n\u001b[1;32m    721\u001b[0m             \u001b[0mnot_using_tensorboard\u001b[0m \u001b[0;34m=\u001b[0m \u001b[0mlen\u001b[0m\u001b[0;34m(\u001b[0m\u001b[0mwandb\u001b[0m\u001b[0;34m.\u001b[0m\u001b[0mpatched\u001b[0m\u001b[0;34m[\u001b[0m\u001b[0;34m\"tensorboard\"\u001b[0m\u001b[0;34m]\u001b[0m\u001b[0;34m)\u001b[0m \u001b[0;34m==\u001b[0m \u001b[0;36m0\u001b[0m\u001b[0;34m\u001b[0m\u001b[0;34m\u001b[0m\u001b[0m\n\u001b[1;32m    722\u001b[0m             self._backend.interface.publish_history(\n\u001b[0;32m--> 723\u001b[0;31m                 \u001b[0mrow\u001b[0m\u001b[0;34m,\u001b[0m \u001b[0mstep\u001b[0m\u001b[0;34m,\u001b[0m \u001b[0mpublish_step\u001b[0m\u001b[0;34m=\u001b[0m\u001b[0mnot_using_tensorboard\u001b[0m\u001b[0;34m\u001b[0m\u001b[0;34m\u001b[0m\u001b[0m\n\u001b[0m\u001b[1;32m    724\u001b[0m             )\n\u001b[1;32m    725\u001b[0m \u001b[0;34m\u001b[0m\u001b[0m\n",
            "\u001b[0;32m/usr/local/lib/python3.6/dist-packages/wandb/sdk/interface/interface.py\u001b[0m in \u001b[0;36mpublish_history\u001b[0;34m(self, data, step, run, publish_step)\u001b[0m\n\u001b[1;32m    181\u001b[0m             \u001b[0mitem\u001b[0m\u001b[0;34m.\u001b[0m\u001b[0mkey\u001b[0m \u001b[0;34m=\u001b[0m \u001b[0mk\u001b[0m\u001b[0;34m\u001b[0m\u001b[0;34m\u001b[0m\u001b[0m\n\u001b[1;32m    182\u001b[0m             \u001b[0mitem\u001b[0m\u001b[0;34m.\u001b[0m\u001b[0mvalue_json\u001b[0m \u001b[0;34m=\u001b[0m \u001b[0mjson_dumps_safer_history\u001b[0m\u001b[0;34m(\u001b[0m\u001b[0mv\u001b[0m\u001b[0;34m)\u001b[0m\u001b[0;34m\u001b[0m\u001b[0;34m\u001b[0m\u001b[0m\n\u001b[0;32m--> 183\u001b[0;31m         \u001b[0mself\u001b[0m\u001b[0;34m.\u001b[0m\u001b[0m_publish_history\u001b[0m\u001b[0;34m(\u001b[0m\u001b[0mhistory\u001b[0m\u001b[0;34m)\u001b[0m\u001b[0;34m\u001b[0m\u001b[0;34m\u001b[0m\u001b[0m\n\u001b[0m\u001b[1;32m    184\u001b[0m \u001b[0;34m\u001b[0m\u001b[0m\n\u001b[1;32m    185\u001b[0m     \u001b[0;32mdef\u001b[0m \u001b[0mpublish_telemetry\u001b[0m\u001b[0;34m(\u001b[0m\u001b[0mself\u001b[0m\u001b[0;34m,\u001b[0m \u001b[0mtelem\u001b[0m\u001b[0;34m)\u001b[0m\u001b[0;34m:\u001b[0m\u001b[0;34m\u001b[0m\u001b[0;34m\u001b[0m\u001b[0m\n",
            "\u001b[0;32m/usr/local/lib/python3.6/dist-packages/wandb/sdk/interface/interface.py\u001b[0m in \u001b[0;36m_publish_history\u001b[0;34m(self, history)\u001b[0m\n\u001b[1;32m    168\u001b[0m     \u001b[0;32mdef\u001b[0m \u001b[0m_publish_history\u001b[0m\u001b[0;34m(\u001b[0m\u001b[0mself\u001b[0m\u001b[0;34m,\u001b[0m \u001b[0mhistory\u001b[0m\u001b[0;34m)\u001b[0m\u001b[0;34m:\u001b[0m\u001b[0;34m\u001b[0m\u001b[0;34m\u001b[0m\u001b[0m\n\u001b[1;32m    169\u001b[0m         \u001b[0mrec\u001b[0m \u001b[0;34m=\u001b[0m \u001b[0mself\u001b[0m\u001b[0;34m.\u001b[0m\u001b[0m_make_record\u001b[0m\u001b[0;34m(\u001b[0m\u001b[0mhistory\u001b[0m\u001b[0;34m=\u001b[0m\u001b[0mhistory\u001b[0m\u001b[0;34m)\u001b[0m\u001b[0;34m\u001b[0m\u001b[0;34m\u001b[0m\u001b[0m\n\u001b[0;32m--> 170\u001b[0;31m         \u001b[0mself\u001b[0m\u001b[0;34m.\u001b[0m\u001b[0m_publish\u001b[0m\u001b[0;34m(\u001b[0m\u001b[0mrec\u001b[0m\u001b[0;34m)\u001b[0m\u001b[0;34m\u001b[0m\u001b[0;34m\u001b[0m\u001b[0m\n\u001b[0m\u001b[1;32m    171\u001b[0m \u001b[0;34m\u001b[0m\u001b[0m\n\u001b[1;32m    172\u001b[0m     \u001b[0;32mdef\u001b[0m \u001b[0mpublish_history\u001b[0m\u001b[0;34m(\u001b[0m\u001b[0mself\u001b[0m\u001b[0;34m,\u001b[0m \u001b[0mdata\u001b[0m\u001b[0;34m,\u001b[0m \u001b[0mstep\u001b[0m\u001b[0;34m=\u001b[0m\u001b[0;32mNone\u001b[0m\u001b[0;34m,\u001b[0m \u001b[0mrun\u001b[0m\u001b[0;34m=\u001b[0m\u001b[0;32mNone\u001b[0m\u001b[0;34m,\u001b[0m \u001b[0mpublish_step\u001b[0m\u001b[0;34m=\u001b[0m\u001b[0;32mTrue\u001b[0m\u001b[0;34m)\u001b[0m\u001b[0;34m:\u001b[0m\u001b[0;34m\u001b[0m\u001b[0;34m\u001b[0m\u001b[0m\n",
            "\u001b[0;32m/usr/local/lib/python3.6/dist-packages/wandb/sdk/interface/interface.py\u001b[0m in \u001b[0;36m_publish\u001b[0;34m(self, record, local)\u001b[0m\n\u001b[1;32m    460\u001b[0m     \u001b[0;32mdef\u001b[0m \u001b[0m_publish\u001b[0m\u001b[0;34m(\u001b[0m\u001b[0mself\u001b[0m\u001b[0;34m,\u001b[0m \u001b[0mrecord\u001b[0m\u001b[0;34m,\u001b[0m \u001b[0mlocal\u001b[0m\u001b[0;34m=\u001b[0m\u001b[0;32mNone\u001b[0m\u001b[0;34m)\u001b[0m\u001b[0;34m:\u001b[0m\u001b[0;34m\u001b[0m\u001b[0;34m\u001b[0m\u001b[0m\n\u001b[1;32m    461\u001b[0m         \u001b[0;32mif\u001b[0m \u001b[0mself\u001b[0m\u001b[0;34m.\u001b[0m\u001b[0m_process\u001b[0m \u001b[0;32mand\u001b[0m \u001b[0;32mnot\u001b[0m \u001b[0mself\u001b[0m\u001b[0;34m.\u001b[0m\u001b[0m_process\u001b[0m\u001b[0;34m.\u001b[0m\u001b[0mis_alive\u001b[0m\u001b[0;34m(\u001b[0m\u001b[0;34m)\u001b[0m\u001b[0;34m:\u001b[0m\u001b[0;34m\u001b[0m\u001b[0;34m\u001b[0m\u001b[0m\n\u001b[0;32m--> 462\u001b[0;31m             \u001b[0;32mraise\u001b[0m \u001b[0mException\u001b[0m\u001b[0;34m(\u001b[0m\u001b[0;34m\"The wandb backend process has shutdown\"\u001b[0m\u001b[0;34m)\u001b[0m\u001b[0;34m\u001b[0m\u001b[0;34m\u001b[0m\u001b[0m\n\u001b[0m\u001b[1;32m    463\u001b[0m         \u001b[0;32mif\u001b[0m \u001b[0mlocal\u001b[0m\u001b[0;34m:\u001b[0m\u001b[0;34m\u001b[0m\u001b[0;34m\u001b[0m\u001b[0m\n\u001b[1;32m    464\u001b[0m             \u001b[0mrecord\u001b[0m\u001b[0;34m.\u001b[0m\u001b[0mcontrol\u001b[0m\u001b[0;34m.\u001b[0m\u001b[0mlocal\u001b[0m \u001b[0;34m=\u001b[0m \u001b[0mlocal\u001b[0m\u001b[0;34m\u001b[0m\u001b[0;34m\u001b[0m\u001b[0m\n",
            "\u001b[0;31mException\u001b[0m: The wandb backend process has shutdown"
          ]
        }
      ]
    },
    {
      "cell_type": "code",
      "metadata": {
        "id": "TYHpgdXQ1Zf8"
      },
      "source": [
        ""
      ],
      "execution_count": null,
      "outputs": []
    }
  ]
}
